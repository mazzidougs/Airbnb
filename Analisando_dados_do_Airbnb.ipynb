{
  "nbformat": 4,
  "nbformat_minor": 0,
  "metadata": {
    "colab": {
      "name": "Analisando dados do Airbnb.ipynb",
      "provenance": [],
      "authorship_tag": "ABX9TyMuK+Ac5QqqYMg0h8Pn+gUg"
    },
    "kernelspec": {
      "name": "python3",
      "display_name": "Python 3"
    },
    "language_info": {
      "name": "python"
    }
  },
  "cells": [
    {
      "cell_type": "markdown",
      "source": [
        "# Análise de dados - Airbnb (Rio de Janeiro)\n",
        "\n",
        "Não é nenhuma novidade que as plataformas estão ficando cada vez mais abertas para o público anunciar seus próprios negócios. Não funciona diferente no Airbnb, onde todos que possuirem um apartamento/quarto/casa para locação, podem se cadastrar e conseguir um bom lucro com isso.\n",
        "\n",
        "Esta análise foi realizada para a cidade do Rio de Janeiro, pois como sou brasileiro preferi analisar algum lugar do Brasil e infelizmente os únicos dados disponibilizados pela empresa foi desta cidade.\n",
        "\n",
        "<center><img src=\"https://github.com/mazzidougs/Airbnb/blob/main/thales-botelho-de-sousa-9e0dAX1bUsA-unsplash.jpg?raw=true\"></center>\n",
        "\n",
        "* O arquivo `csv` com os dados de 23635 pessoas e 16 atributos pode ser baixado [neste link](http://insideairbnb.com/get-the-data.html)."
      ],
      "metadata": {
        "id": "CgoLU33IlLfz"
      }
    },
    {
      "cell_type": "code",
      "metadata": {
        "id": "RFMjROWR8TMB"
      },
      "source": [
        "import pandas as pd\n",
        "import matplotlib.pyplot as plt\n",
        "import seaborn as sns"
      ],
      "execution_count": 1,
      "outputs": []
    },
    {
      "cell_type": "code",
      "metadata": {
        "id": "wanJafUx9Vwm"
      },
      "source": [
        "#importando o link para var df\n",
        "df = pd.read_csv('http://data.insideairbnb.com/brazil/rj/rio-de-janeiro/2021-07-17/visualisations/listings.csv')"
      ],
      "execution_count": 2,
      "outputs": []
    },
    {
      "cell_type": "markdown",
      "metadata": {
        "id": "lBkxvumM9liB"
      },
      "source": [
        "**Dicionário das variáveis**\n",
        "\n",
        "* `id` - número de id gerado para identificar o imóvel\n",
        "* `name` - nome da propriedade anunciada\n",
        "* `host_id` - número de id do proprietário (anfitrião) da propriedade\n",
        "* `host_name` - Nome do anfitrião\n",
        "* `neighbourhood_group` - esta coluna não contém nenhum valor válido\n",
        "* `neighbourhood` - nome do bairro\n",
        "* `latitude` - coordenada da latitude da propriedade\n",
        "* `longitude` - coordenada da longitude da propriedade\n",
        "* `room_type` - informa o tipo de quarto que é oferecido\n",
        "* `price` - preço para alugar o imóvel\n",
        "* `minimum_nights` - quantidade mínima de noites para reservar\n",
        "* `number_of_reviews` - número de reviews que a propriedade possui\n",
        "* `last_review` - data do último review\n",
        "* `reviews_per_month` - quantidade de reviews por mês\n",
        "* `calculated_host_listings_count` - quantidade de imóveis do mesmo anfitrião\n",
        "* `availability_365` - número de dias de disponibilidade dentro de 365 dias\n",
        "\n",
        "Antes de iniciar qualquer análise, vamos verificar a cara do nosso *dataset*."
      ]
    },
    {
      "cell_type": "code",
      "metadata": {
        "colab": {
          "base_uri": "https://localhost:8080/",
          "height": 974
        },
        "id": "IqIxPxV7-yOM",
        "outputId": "603d6788-23ed-45ea-9a35-6001f88b2a13"
      },
      "source": [
        "df.head(None)"
      ],
      "execution_count": 3,
      "outputs": [
        {
          "output_type": "execute_result",
          "data": {
            "text/html": [
              "\n",
              "  <div id=\"df-8bc6d257-30ea-4b88-a957-75ec17a01519\">\n",
              "    <div class=\"colab-df-container\">\n",
              "      <div>\n",
              "<style scoped>\n",
              "    .dataframe tbody tr th:only-of-type {\n",
              "        vertical-align: middle;\n",
              "    }\n",
              "\n",
              "    .dataframe tbody tr th {\n",
              "        vertical-align: top;\n",
              "    }\n",
              "\n",
              "    .dataframe thead th {\n",
              "        text-align: right;\n",
              "    }\n",
              "</style>\n",
              "<table border=\"1\" class=\"dataframe\">\n",
              "  <thead>\n",
              "    <tr style=\"text-align: right;\">\n",
              "      <th></th>\n",
              "      <th>id</th>\n",
              "      <th>name</th>\n",
              "      <th>host_id</th>\n",
              "      <th>host_name</th>\n",
              "      <th>neighbourhood_group</th>\n",
              "      <th>neighbourhood</th>\n",
              "      <th>latitude</th>\n",
              "      <th>longitude</th>\n",
              "      <th>room_type</th>\n",
              "      <th>price</th>\n",
              "      <th>minimum_nights</th>\n",
              "      <th>number_of_reviews</th>\n",
              "      <th>last_review</th>\n",
              "      <th>reviews_per_month</th>\n",
              "      <th>calculated_host_listings_count</th>\n",
              "      <th>availability_365</th>\n",
              "      <th>number_of_reviews_ltm</th>\n",
              "      <th>license</th>\n",
              "    </tr>\n",
              "  </thead>\n",
              "  <tbody>\n",
              "    <tr>\n",
              "      <th>0</th>\n",
              "      <td>17878</td>\n",
              "      <td>Very Nice 2Br in Copacabana w. balcony, fast WiFi</td>\n",
              "      <td>68997</td>\n",
              "      <td>Matthias</td>\n",
              "      <td>NaN</td>\n",
              "      <td>Copacabana</td>\n",
              "      <td>-22.965990</td>\n",
              "      <td>-43.179400</td>\n",
              "      <td>Entire home/apt</td>\n",
              "      <td>170</td>\n",
              "      <td>5</td>\n",
              "      <td>265</td>\n",
              "      <td>2021-05-21</td>\n",
              "      <td>2.11</td>\n",
              "      <td>1</td>\n",
              "      <td>317</td>\n",
              "      <td>14</td>\n",
              "      <td>NaN</td>\n",
              "    </tr>\n",
              "    <tr>\n",
              "      <th>1</th>\n",
              "      <td>24480</td>\n",
              "      <td>Nice and cozy near Ipanema Beach</td>\n",
              "      <td>99249</td>\n",
              "      <td>Goya</td>\n",
              "      <td>NaN</td>\n",
              "      <td>Ipanema</td>\n",
              "      <td>-22.984050</td>\n",
              "      <td>-43.201890</td>\n",
              "      <td>Entire home/apt</td>\n",
              "      <td>283</td>\n",
              "      <td>3</td>\n",
              "      <td>85</td>\n",
              "      <td>2017-04-22</td>\n",
              "      <td>0.88</td>\n",
              "      <td>1</td>\n",
              "      <td>154</td>\n",
              "      <td>0</td>\n",
              "      <td>NaN</td>\n",
              "    </tr>\n",
              "    <tr>\n",
              "      <th>2</th>\n",
              "      <td>25026</td>\n",
              "      <td>Beautiful Modern Decorated Studio in Copa</td>\n",
              "      <td>102840</td>\n",
              "      <td>Viviane</td>\n",
              "      <td>NaN</td>\n",
              "      <td>Copacabana</td>\n",
              "      <td>-22.977350</td>\n",
              "      <td>-43.191050</td>\n",
              "      <td>Entire home/apt</td>\n",
              "      <td>160</td>\n",
              "      <td>7</td>\n",
              "      <td>238</td>\n",
              "      <td>2019-04-27</td>\n",
              "      <td>1.89</td>\n",
              "      <td>2</td>\n",
              "      <td>316</td>\n",
              "      <td>0</td>\n",
              "      <td>NaN</td>\n",
              "    </tr>\n",
              "    <tr>\n",
              "      <th>3</th>\n",
              "      <td>35636</td>\n",
              "      <td>Cosy flat close to Ipanema beach</td>\n",
              "      <td>153232</td>\n",
              "      <td>Patricia</td>\n",
              "      <td>NaN</td>\n",
              "      <td>Ipanema</td>\n",
              "      <td>-22.988390</td>\n",
              "      <td>-43.192320</td>\n",
              "      <td>Entire home/apt</td>\n",
              "      <td>256</td>\n",
              "      <td>2</td>\n",
              "      <td>181</td>\n",
              "      <td>2019-12-06</td>\n",
              "      <td>1.97</td>\n",
              "      <td>1</td>\n",
              "      <td>167</td>\n",
              "      <td>0</td>\n",
              "      <td>NaN</td>\n",
              "    </tr>\n",
              "    <tr>\n",
              "      <th>4</th>\n",
              "      <td>35764</td>\n",
              "      <td>COPACABANA SEA BREEZE  -  RIO - 20 X Superhost</td>\n",
              "      <td>153691</td>\n",
              "      <td>Patricia Miranda &amp; Paulo</td>\n",
              "      <td>NaN</td>\n",
              "      <td>Copacabana</td>\n",
              "      <td>-22.981070</td>\n",
              "      <td>-43.191360</td>\n",
              "      <td>Entire home/apt</td>\n",
              "      <td>120</td>\n",
              "      <td>3</td>\n",
              "      <td>363</td>\n",
              "      <td>2019-06-15</td>\n",
              "      <td>3.05</td>\n",
              "      <td>1</td>\n",
              "      <td>92</td>\n",
              "      <td>31</td>\n",
              "      <td>NaN</td>\n",
              "    </tr>\n",
              "    <tr>\n",
              "      <th>...</th>\n",
              "      <td>...</td>\n",
              "      <td>...</td>\n",
              "      <td>...</td>\n",
              "      <td>...</td>\n",
              "      <td>...</td>\n",
              "      <td>...</td>\n",
              "      <td>...</td>\n",
              "      <td>...</td>\n",
              "      <td>...</td>\n",
              "      <td>...</td>\n",
              "      <td>...</td>\n",
              "      <td>...</td>\n",
              "      <td>...</td>\n",
              "      <td>...</td>\n",
              "      <td>...</td>\n",
              "      <td>...</td>\n",
              "      <td>...</td>\n",
              "      <td>...</td>\n",
              "    </tr>\n",
              "    <tr>\n",
              "      <th>23630</th>\n",
              "      <td>51081209</td>\n",
              "      <td>2BR Ipanema Beauty Apartment with Ocean View</td>\n",
              "      <td>11070008</td>\n",
              "      <td>BlissRio</td>\n",
              "      <td>NaN</td>\n",
              "      <td>Ipanema</td>\n",
              "      <td>-22.985292</td>\n",
              "      <td>-43.197643</td>\n",
              "      <td>Entire home/apt</td>\n",
              "      <td>270</td>\n",
              "      <td>3</td>\n",
              "      <td>0</td>\n",
              "      <td>NaN</td>\n",
              "      <td>NaN</td>\n",
              "      <td>8</td>\n",
              "      <td>66</td>\n",
              "      <td>0</td>\n",
              "      <td>NaN</td>\n",
              "    </tr>\n",
              "    <tr>\n",
              "      <th>23631</th>\n",
              "      <td>51083443</td>\n",
              "      <td>Acolhedor flat à beira-mar na Barra da Tijuca</td>\n",
              "      <td>319227148</td>\n",
              "      <td>Anfitrião Prime</td>\n",
              "      <td>NaN</td>\n",
              "      <td>Barra da Tijuca</td>\n",
              "      <td>-23.009308</td>\n",
              "      <td>-43.355782</td>\n",
              "      <td>Entire home/apt</td>\n",
              "      <td>9440</td>\n",
              "      <td>1</td>\n",
              "      <td>0</td>\n",
              "      <td>NaN</td>\n",
              "      <td>NaN</td>\n",
              "      <td>12</td>\n",
              "      <td>220</td>\n",
              "      <td>0</td>\n",
              "      <td>NaN</td>\n",
              "    </tr>\n",
              "    <tr>\n",
              "      <th>23632</th>\n",
              "      <td>51084459</td>\n",
              "      <td>Duplex com churrasqueira e Wi-Fi em Lins no RJ</td>\n",
              "      <td>319227148</td>\n",
              "      <td>Anfitrião Prime</td>\n",
              "      <td>NaN</td>\n",
              "      <td>Méier</td>\n",
              "      <td>-22.903879</td>\n",
              "      <td>-43.273692</td>\n",
              "      <td>Entire home/apt</td>\n",
              "      <td>271</td>\n",
              "      <td>1</td>\n",
              "      <td>0</td>\n",
              "      <td>NaN</td>\n",
              "      <td>NaN</td>\n",
              "      <td>12</td>\n",
              "      <td>365</td>\n",
              "      <td>0</td>\n",
              "      <td>NaN</td>\n",
              "    </tr>\n",
              "    <tr>\n",
              "      <th>23633</th>\n",
              "      <td>51087547</td>\n",
              "      <td>Amplo apartamento com 3 quartos e dois banheiros</td>\n",
              "      <td>13411812</td>\n",
              "      <td>Fernando</td>\n",
              "      <td>NaN</td>\n",
              "      <td>Ipanema</td>\n",
              "      <td>-22.987000</td>\n",
              "      <td>-43.200670</td>\n",
              "      <td>Entire home/apt</td>\n",
              "      <td>600</td>\n",
              "      <td>3</td>\n",
              "      <td>0</td>\n",
              "      <td>NaN</td>\n",
              "      <td>NaN</td>\n",
              "      <td>4</td>\n",
              "      <td>358</td>\n",
              "      <td>0</td>\n",
              "      <td>NaN</td>\n",
              "    </tr>\n",
              "    <tr>\n",
              "      <th>23634</th>\n",
              "      <td>51091220</td>\n",
              "      <td>Cobertura 02 suites no coraçao de Copacabana</td>\n",
              "      <td>361834776</td>\n",
              "      <td>Guy</td>\n",
              "      <td>NaN</td>\n",
              "      <td>Copacabana</td>\n",
              "      <td>-22.965347</td>\n",
              "      <td>-43.181264</td>\n",
              "      <td>Entire home/apt</td>\n",
              "      <td>560</td>\n",
              "      <td>3</td>\n",
              "      <td>0</td>\n",
              "      <td>NaN</td>\n",
              "      <td>NaN</td>\n",
              "      <td>1</td>\n",
              "      <td>224</td>\n",
              "      <td>0</td>\n",
              "      <td>NaN</td>\n",
              "    </tr>\n",
              "  </tbody>\n",
              "</table>\n",
              "<p>23635 rows × 18 columns</p>\n",
              "</div>\n",
              "      <button class=\"colab-df-convert\" onclick=\"convertToInteractive('df-8bc6d257-30ea-4b88-a957-75ec17a01519')\"\n",
              "              title=\"Convert this dataframe to an interactive table.\"\n",
              "              style=\"display:none;\">\n",
              "        \n",
              "  <svg xmlns=\"http://www.w3.org/2000/svg\" height=\"24px\"viewBox=\"0 0 24 24\"\n",
              "       width=\"24px\">\n",
              "    <path d=\"M0 0h24v24H0V0z\" fill=\"none\"/>\n",
              "    <path d=\"M18.56 5.44l.94 2.06.94-2.06 2.06-.94-2.06-.94-.94-2.06-.94 2.06-2.06.94zm-11 1L8.5 8.5l.94-2.06 2.06-.94-2.06-.94L8.5 2.5l-.94 2.06-2.06.94zm10 10l.94 2.06.94-2.06 2.06-.94-2.06-.94-.94-2.06-.94 2.06-2.06.94z\"/><path d=\"M17.41 7.96l-1.37-1.37c-.4-.4-.92-.59-1.43-.59-.52 0-1.04.2-1.43.59L10.3 9.45l-7.72 7.72c-.78.78-.78 2.05 0 2.83L4 21.41c.39.39.9.59 1.41.59.51 0 1.02-.2 1.41-.59l7.78-7.78 2.81-2.81c.8-.78.8-2.07 0-2.86zM5.41 20L4 18.59l7.72-7.72 1.47 1.35L5.41 20z\"/>\n",
              "  </svg>\n",
              "      </button>\n",
              "      \n",
              "  <style>\n",
              "    .colab-df-container {\n",
              "      display:flex;\n",
              "      flex-wrap:wrap;\n",
              "      gap: 12px;\n",
              "    }\n",
              "\n",
              "    .colab-df-convert {\n",
              "      background-color: #E8F0FE;\n",
              "      border: none;\n",
              "      border-radius: 50%;\n",
              "      cursor: pointer;\n",
              "      display: none;\n",
              "      fill: #1967D2;\n",
              "      height: 32px;\n",
              "      padding: 0 0 0 0;\n",
              "      width: 32px;\n",
              "    }\n",
              "\n",
              "    .colab-df-convert:hover {\n",
              "      background-color: #E2EBFA;\n",
              "      box-shadow: 0px 1px 2px rgba(60, 64, 67, 0.3), 0px 1px 3px 1px rgba(60, 64, 67, 0.15);\n",
              "      fill: #174EA6;\n",
              "    }\n",
              "\n",
              "    [theme=dark] .colab-df-convert {\n",
              "      background-color: #3B4455;\n",
              "      fill: #D2E3FC;\n",
              "    }\n",
              "\n",
              "    [theme=dark] .colab-df-convert:hover {\n",
              "      background-color: #434B5C;\n",
              "      box-shadow: 0px 1px 3px 1px rgba(0, 0, 0, 0.15);\n",
              "      filter: drop-shadow(0px 1px 2px rgba(0, 0, 0, 0.3));\n",
              "      fill: #FFFFFF;\n",
              "    }\n",
              "  </style>\n",
              "\n",
              "      <script>\n",
              "        const buttonEl =\n",
              "          document.querySelector('#df-8bc6d257-30ea-4b88-a957-75ec17a01519 button.colab-df-convert');\n",
              "        buttonEl.style.display =\n",
              "          google.colab.kernel.accessAllowed ? 'block' : 'none';\n",
              "\n",
              "        async function convertToInteractive(key) {\n",
              "          const element = document.querySelector('#df-8bc6d257-30ea-4b88-a957-75ec17a01519');\n",
              "          const dataTable =\n",
              "            await google.colab.kernel.invokeFunction('convertToInteractive',\n",
              "                                                     [key], {});\n",
              "          if (!dataTable) return;\n",
              "\n",
              "          const docLinkHtml = 'Like what you see? Visit the ' +\n",
              "            '<a target=\"_blank\" href=https://colab.research.google.com/notebooks/data_table.ipynb>data table notebook</a>'\n",
              "            + ' to learn more about interactive tables.';\n",
              "          element.innerHTML = '';\n",
              "          dataTable['output_type'] = 'display_data';\n",
              "          await google.colab.output.renderOutput(dataTable, element);\n",
              "          const docLink = document.createElement('div');\n",
              "          docLink.innerHTML = docLinkHtml;\n",
              "          element.appendChild(docLink);\n",
              "        }\n",
              "      </script>\n",
              "    </div>\n",
              "  </div>\n",
              "  "
            ],
            "text/plain": [
              "             id  ... license\n",
              "0         17878  ...     NaN\n",
              "1         24480  ...     NaN\n",
              "2         25026  ...     NaN\n",
              "3         35636  ...     NaN\n",
              "4         35764  ...     NaN\n",
              "...         ...  ...     ...\n",
              "23630  51081209  ...     NaN\n",
              "23631  51083443  ...     NaN\n",
              "23632  51084459  ...     NaN\n",
              "23633  51087547  ...     NaN\n",
              "23634  51091220  ...     NaN\n",
              "\n",
              "[23635 rows x 18 columns]"
            ]
          },
          "metadata": {},
          "execution_count": 3
        }
      ]
    },
    {
      "cell_type": "markdown",
      "metadata": {
        "id": "qOyiotuf_V69"
      },
      "source": [
        "### Verificando quantos atributos e quantas entradas o nosso conjunto de dados possui e quais os tipos das variáveis\n",
        "\n",
        "Vamos prosseguir e identificar a quantidade de entradas que nosso conjunto de dados possui e ver os tipos de cada coluna.\n"
      ]
    },
    {
      "cell_type": "code",
      "metadata": {
        "colab": {
          "base_uri": "https://localhost:8080/"
        },
        "id": "Wc0Y0CzdADDD",
        "outputId": "1bec49a5-59e9-4ebe-df1b-1bb9fd51ed0a"
      },
      "source": [
        "df.shape #(variaveis, entradas)"
      ],
      "execution_count": null,
      "outputs": [
        {
          "output_type": "execute_result",
          "data": {
            "text/plain": [
              "(23635, 16)"
            ]
          },
          "metadata": {},
          "execution_count": 6
        }
      ]
    },
    {
      "cell_type": "code",
      "metadata": {
        "colab": {
          "base_uri": "https://localhost:8080/",
          "height": 398
        },
        "id": "Mu--8FOP_yOe",
        "outputId": "eee4aaf6-84ad-4dae-ff6b-6c5c48cbc6a8"
      },
      "source": [
        "print('Linhas:\\t\\t {}'.format(df.shape[0]))\n",
        "print('Colunas:\\t {}\\n'.format(df.shape[1]))\n",
        "\n",
        "display(df.dtypes)"
      ],
      "execution_count": 9,
      "outputs": [
        {
          "output_type": "stream",
          "name": "stdout",
          "text": [
            "Linhas:\t\t 23635\n",
            "Colunas:\t 18\n",
            "\n"
          ]
        },
        {
          "output_type": "display_data",
          "data": {
            "text/plain": [
              "id                                  int64\n",
              "name                               object\n",
              "host_id                             int64\n",
              "host_name                          object\n",
              "neighbourhood_group               float64\n",
              "neighbourhood                      object\n",
              "latitude                          float64\n",
              "longitude                         float64\n",
              "room_type                          object\n",
              "price                               int64\n",
              "minimum_nights                      int64\n",
              "number_of_reviews                   int64\n",
              "last_review                        object\n",
              "reviews_per_month                 float64\n",
              "calculated_host_listings_count      int64\n",
              "availability_365                    int64\n",
              "number_of_reviews_ltm               int64\n",
              "license                           float64\n",
              "dtype: object"
            ]
          },
          "metadata": {}
        }
      ]
    },
    {
      "cell_type": "markdown",
      "metadata": {
        "id": "V6Wpg9THAdLd"
      },
      "source": [
        "### Porcentagem de valores ausentes no dataset\n",
        "\n",
        "A qualidade de um *dataset* está diretamente relacionada à quantidade de valores ausentes. É importante entender logo no início se esses valores nulos são significativos comparados ao total de entradas.\n",
        "\n",
        "* É possível ver que a coluna `neighbourhood_group` e `license` possui 100% dos seus valores faltantes. \n",
        "* As variáveis `reviews_per_month` e `last_review` possuem valores nulos em quase metade das linhas.\n",
        "* As variáveis `name` e `host_name` têm aproximadamente 0,1% dos valores nulos.\n"
      ]
    },
    {
      "cell_type": "code",
      "metadata": {
        "colab": {
          "base_uri": "https://localhost:8080/"
        },
        "id": "rQIFQuqQBMP0",
        "outputId": "6ad5fcfe-4e21-42b8-dc3b-dd117b4cc04d"
      },
      "source": [
        "#ordenar em ordem decrescente as variáveis por seus valores ausentes\n",
        "(df.isnull().sum() / df.shape[0]).sort_values(ascending=False)*100\n",
        "#neighbouhood possui 100% de valores faltantas (nao possui dados)"
      ],
      "execution_count": 16,
      "outputs": [
        {
          "output_type": "execute_result",
          "data": {
            "text/plain": [
              "license                           100.000000\n",
              "neighbourhood_group               100.000000\n",
              "reviews_per_month                  36.619420\n",
              "last_review                        36.619420\n",
              "name                                0.088851\n",
              "host_name                           0.029617\n",
              "number_of_reviews                   0.000000\n",
              "number_of_reviews_ltm               0.000000\n",
              "availability_365                    0.000000\n",
              "calculated_host_listings_count      0.000000\n",
              "id                                  0.000000\n",
              "minimum_nights                      0.000000\n",
              "room_type                           0.000000\n",
              "longitude                           0.000000\n",
              "latitude                            0.000000\n",
              "neighbourhood                       0.000000\n",
              "host_id                             0.000000\n",
              "price                               0.000000\n",
              "dtype: float64"
            ]
          },
          "metadata": {},
          "execution_count": 16
        }
      ]
    },
    {
      "cell_type": "code",
      "metadata": {
        "colab": {
          "base_uri": "https://localhost:8080/"
        },
        "id": "8qyO-EL_b8FM",
        "outputId": "20658f11-9da0-42e7-cd8a-adfd012e60dc"
      },
      "source": [
        "df.sort_values #ordena os valores\n",
        "\n",
        "#df.sort_values(by=['neighbourhood_group', 'host_name'])\n",
        "#neste outro podemos usar para ordenar apenas as colunas\n",
        "#que quisermos"
      ],
      "execution_count": 11,
      "outputs": [
        {
          "output_type": "execute_result",
          "data": {
            "text/plain": [
              "<bound method DataFrame.sort_values of              id  ... license\n",
              "0         17878  ...     NaN\n",
              "1         24480  ...     NaN\n",
              "2         25026  ...     NaN\n",
              "3         35636  ...     NaN\n",
              "4         35764  ...     NaN\n",
              "...         ...  ...     ...\n",
              "23630  51081209  ...     NaN\n",
              "23631  51083443  ...     NaN\n",
              "23632  51084459  ...     NaN\n",
              "23633  51087547  ...     NaN\n",
              "23634  51091220  ...     NaN\n",
              "\n",
              "[23635 rows x 18 columns]>"
            ]
          },
          "metadata": {},
          "execution_count": 11
        }
      ]
    },
    {
      "cell_type": "markdown",
      "metadata": {
        "id": "9SfIngT6CmgK"
      },
      "source": [
        "### Tipo de distribuição das variáveis \n",
        "\n",
        "Para identificar a distribuição das variáveis, irei plotar um histograma para cada atributo, exceto `neighbourhood_group` e `license`. Juntamente com a descrição estatistica de nosso dataset.\n"
      ]
    },
    {
      "cell_type": "code",
      "metadata": {
        "colab": {
          "base_uri": "https://localhost:8080/",
          "height": 954
        },
        "id": "-dqOraPxgMPR",
        "outputId": "94157d6a-d2c2-4e03-8a8f-9e407b3a34d7"
      },
      "source": [
        "df_hist = df.drop(['neighbourhood_group', 'license'], axis=1)\n",
        "\n",
        "df_hist.hist(bins=15, figsize=(15, 10));\n",
        "df_hist.describe()"
      ],
      "execution_count": 22,
      "outputs": [
        {
          "output_type": "execute_result",
          "data": {
            "text/html": [
              "\n",
              "  <div id=\"df-ad199280-2c46-4527-a04f-09d87978398d\">\n",
              "    <div class=\"colab-df-container\">\n",
              "      <div>\n",
              "<style scoped>\n",
              "    .dataframe tbody tr th:only-of-type {\n",
              "        vertical-align: middle;\n",
              "    }\n",
              "\n",
              "    .dataframe tbody tr th {\n",
              "        vertical-align: top;\n",
              "    }\n",
              "\n",
              "    .dataframe thead th {\n",
              "        text-align: right;\n",
              "    }\n",
              "</style>\n",
              "<table border=\"1\" class=\"dataframe\">\n",
              "  <thead>\n",
              "    <tr style=\"text-align: right;\">\n",
              "      <th></th>\n",
              "      <th>id</th>\n",
              "      <th>host_id</th>\n",
              "      <th>latitude</th>\n",
              "      <th>longitude</th>\n",
              "      <th>price</th>\n",
              "      <th>minimum_nights</th>\n",
              "      <th>number_of_reviews</th>\n",
              "      <th>reviews_per_month</th>\n",
              "      <th>calculated_host_listings_count</th>\n",
              "      <th>availability_365</th>\n",
              "      <th>number_of_reviews_ltm</th>\n",
              "    </tr>\n",
              "  </thead>\n",
              "  <tbody>\n",
              "    <tr>\n",
              "      <th>count</th>\n",
              "      <td>2.363500e+04</td>\n",
              "      <td>2.363500e+04</td>\n",
              "      <td>23635.000000</td>\n",
              "      <td>23635.000000</td>\n",
              "      <td>23635.000000</td>\n",
              "      <td>23635.000000</td>\n",
              "      <td>23635.000000</td>\n",
              "      <td>14980.000000</td>\n",
              "      <td>23635.000000</td>\n",
              "      <td>23635.000000</td>\n",
              "      <td>23635.000000</td>\n",
              "    </tr>\n",
              "    <tr>\n",
              "      <th>mean</th>\n",
              "      <td>2.583630e+07</td>\n",
              "      <td>1.017046e+08</td>\n",
              "      <td>-22.966148</td>\n",
              "      <td>-43.249278</td>\n",
              "      <td>751.329300</td>\n",
              "      <td>4.919018</td>\n",
              "      <td>13.207489</td>\n",
              "      <td>0.602536</td>\n",
              "      <td>7.396361</td>\n",
              "      <td>246.030379</td>\n",
              "      <td>2.746943</td>\n",
              "    </tr>\n",
              "    <tr>\n",
              "      <th>std</th>\n",
              "      <td>1.620414e+07</td>\n",
              "      <td>1.110507e+08</td>\n",
              "      <td>0.035113</td>\n",
              "      <td>0.097131</td>\n",
              "      <td>5477.207312</td>\n",
              "      <td>20.702676</td>\n",
              "      <td>31.962546</td>\n",
              "      <td>0.864291</td>\n",
              "      <td>22.759622</td>\n",
              "      <td>123.474424</td>\n",
              "      <td>7.241630</td>\n",
              "    </tr>\n",
              "    <tr>\n",
              "      <th>min</th>\n",
              "      <td>1.787800e+04</td>\n",
              "      <td>3.607000e+03</td>\n",
              "      <td>-23.072620</td>\n",
              "      <td>-43.720990</td>\n",
              "      <td>0.000000</td>\n",
              "      <td>1.000000</td>\n",
              "      <td>0.000000</td>\n",
              "      <td>0.010000</td>\n",
              "      <td>1.000000</td>\n",
              "      <td>0.000000</td>\n",
              "      <td>0.000000</td>\n",
              "    </tr>\n",
              "    <tr>\n",
              "      <th>25%</th>\n",
              "      <td>1.230374e+07</td>\n",
              "      <td>1.407128e+07</td>\n",
              "      <td>-22.984680</td>\n",
              "      <td>-43.306905</td>\n",
              "      <td>150.000000</td>\n",
              "      <td>1.000000</td>\n",
              "      <td>0.000000</td>\n",
              "      <td>0.090000</td>\n",
              "      <td>1.000000</td>\n",
              "      <td>130.000000</td>\n",
              "      <td>0.000000</td>\n",
              "    </tr>\n",
              "    <tr>\n",
              "      <th>50%</th>\n",
              "      <td>2.494374e+07</td>\n",
              "      <td>6.029813e+07</td>\n",
              "      <td>-22.972000</td>\n",
              "      <td>-43.196360</td>\n",
              "      <td>256.000000</td>\n",
              "      <td>2.000000</td>\n",
              "      <td>2.000000</td>\n",
              "      <td>0.240000</td>\n",
              "      <td>1.000000</td>\n",
              "      <td>297.000000</td>\n",
              "      <td>0.000000</td>\n",
              "    </tr>\n",
              "    <tr>\n",
              "      <th>75%</th>\n",
              "      <td>4.139697e+07</td>\n",
              "      <td>1.562663e+08</td>\n",
              "      <td>-22.951960</td>\n",
              "      <td>-43.186300</td>\n",
              "      <td>511.000000</td>\n",
              "      <td>4.000000</td>\n",
              "      <td>10.000000</td>\n",
              "      <td>0.790000</td>\n",
              "      <td>3.000000</td>\n",
              "      <td>364.000000</td>\n",
              "      <td>2.000000</td>\n",
              "    </tr>\n",
              "    <tr>\n",
              "      <th>max</th>\n",
              "      <td>5.109122e+07</td>\n",
              "      <td>4.131633e+08</td>\n",
              "      <td>-22.749690</td>\n",
              "      <td>-43.104400</td>\n",
              "      <td>586229.000000</td>\n",
              "      <td>1100.000000</td>\n",
              "      <td>466.000000</td>\n",
              "      <td>26.960000</td>\n",
              "      <td>195.000000</td>\n",
              "      <td>365.000000</td>\n",
              "      <td>186.000000</td>\n",
              "    </tr>\n",
              "  </tbody>\n",
              "</table>\n",
              "</div>\n",
              "      <button class=\"colab-df-convert\" onclick=\"convertToInteractive('df-ad199280-2c46-4527-a04f-09d87978398d')\"\n",
              "              title=\"Convert this dataframe to an interactive table.\"\n",
              "              style=\"display:none;\">\n",
              "        \n",
              "  <svg xmlns=\"http://www.w3.org/2000/svg\" height=\"24px\"viewBox=\"0 0 24 24\"\n",
              "       width=\"24px\">\n",
              "    <path d=\"M0 0h24v24H0V0z\" fill=\"none\"/>\n",
              "    <path d=\"M18.56 5.44l.94 2.06.94-2.06 2.06-.94-2.06-.94-.94-2.06-.94 2.06-2.06.94zm-11 1L8.5 8.5l.94-2.06 2.06-.94-2.06-.94L8.5 2.5l-.94 2.06-2.06.94zm10 10l.94 2.06.94-2.06 2.06-.94-2.06-.94-.94-2.06-.94 2.06-2.06.94z\"/><path d=\"M17.41 7.96l-1.37-1.37c-.4-.4-.92-.59-1.43-.59-.52 0-1.04.2-1.43.59L10.3 9.45l-7.72 7.72c-.78.78-.78 2.05 0 2.83L4 21.41c.39.39.9.59 1.41.59.51 0 1.02-.2 1.41-.59l7.78-7.78 2.81-2.81c.8-.78.8-2.07 0-2.86zM5.41 20L4 18.59l7.72-7.72 1.47 1.35L5.41 20z\"/>\n",
              "  </svg>\n",
              "      </button>\n",
              "      \n",
              "  <style>\n",
              "    .colab-df-container {\n",
              "      display:flex;\n",
              "      flex-wrap:wrap;\n",
              "      gap: 12px;\n",
              "    }\n",
              "\n",
              "    .colab-df-convert {\n",
              "      background-color: #E8F0FE;\n",
              "      border: none;\n",
              "      border-radius: 50%;\n",
              "      cursor: pointer;\n",
              "      display: none;\n",
              "      fill: #1967D2;\n",
              "      height: 32px;\n",
              "      padding: 0 0 0 0;\n",
              "      width: 32px;\n",
              "    }\n",
              "\n",
              "    .colab-df-convert:hover {\n",
              "      background-color: #E2EBFA;\n",
              "      box-shadow: 0px 1px 2px rgba(60, 64, 67, 0.3), 0px 1px 3px 1px rgba(60, 64, 67, 0.15);\n",
              "      fill: #174EA6;\n",
              "    }\n",
              "\n",
              "    [theme=dark] .colab-df-convert {\n",
              "      background-color: #3B4455;\n",
              "      fill: #D2E3FC;\n",
              "    }\n",
              "\n",
              "    [theme=dark] .colab-df-convert:hover {\n",
              "      background-color: #434B5C;\n",
              "      box-shadow: 0px 1px 3px 1px rgba(0, 0, 0, 0.15);\n",
              "      filter: drop-shadow(0px 1px 2px rgba(0, 0, 0, 0.3));\n",
              "      fill: #FFFFFF;\n",
              "    }\n",
              "  </style>\n",
              "\n",
              "      <script>\n",
              "        const buttonEl =\n",
              "          document.querySelector('#df-ad199280-2c46-4527-a04f-09d87978398d button.colab-df-convert');\n",
              "        buttonEl.style.display =\n",
              "          google.colab.kernel.accessAllowed ? 'block' : 'none';\n",
              "\n",
              "        async function convertToInteractive(key) {\n",
              "          const element = document.querySelector('#df-ad199280-2c46-4527-a04f-09d87978398d');\n",
              "          const dataTable =\n",
              "            await google.colab.kernel.invokeFunction('convertToInteractive',\n",
              "                                                     [key], {});\n",
              "          if (!dataTable) return;\n",
              "\n",
              "          const docLinkHtml = 'Like what you see? Visit the ' +\n",
              "            '<a target=\"_blank\" href=https://colab.research.google.com/notebooks/data_table.ipynb>data table notebook</a>'\n",
              "            + ' to learn more about interactive tables.';\n",
              "          element.innerHTML = '';\n",
              "          dataTable['output_type'] = 'display_data';\n",
              "          await google.colab.output.renderOutput(dataTable, element);\n",
              "          const docLink = document.createElement('div');\n",
              "          docLink.innerHTML = docLinkHtml;\n",
              "          element.appendChild(docLink);\n",
              "        }\n",
              "      </script>\n",
              "    </div>\n",
              "  </div>\n",
              "  "
            ],
            "text/plain": [
              "                 id       host_id  ...  availability_365  number_of_reviews_ltm\n",
              "count  2.363500e+04  2.363500e+04  ...      23635.000000           23635.000000\n",
              "mean   2.583630e+07  1.017046e+08  ...        246.030379               2.746943\n",
              "std    1.620414e+07  1.110507e+08  ...        123.474424               7.241630\n",
              "min    1.787800e+04  3.607000e+03  ...          0.000000               0.000000\n",
              "25%    1.230374e+07  1.407128e+07  ...        130.000000               0.000000\n",
              "50%    2.494374e+07  6.029813e+07  ...        297.000000               0.000000\n",
              "75%    4.139697e+07  1.562663e+08  ...        364.000000               2.000000\n",
              "max    5.109122e+07  4.131633e+08  ...        365.000000             186.000000\n",
              "\n",
              "[8 rows x 11 columns]"
            ]
          },
          "metadata": {},
          "execution_count": 22
        },
        {
          "output_type": "display_data",
          "data": {
            "image/png": "[encoded data removed]",
            "text/plain": [
              "<Figure size 1080x720 with 12 Axes>"
            ]
          },
          "metadata": {
            "needs_background": "light"
          }
        }
      ]
    },
    {
      "cell_type": "markdown",
      "metadata": {
        "id": "_QtfSV6lC8Cw"
      },
      "source": [
        "Verificando se há outliers\n",
        "\n",
        "Pela distribuição do histograma, é possível verificar indícios da presença de *outliers*. Olhe por exemplo as variáveis `price`, `minimum_nights` e `calculated_host_listings_count`.\n",
        "\n",
        "Os valores não seguem uma distruição, e distorcem toda a representação gráfica. Para confirmar, há duas maneiras rápidas que auxiliam a detecção de *outliers*. São elas:\n",
        "\n",
        "* Resumo estatístico por meio do método `describe()`\n",
        "* Plotar `boxplots` para a variável."
      ]
    },
    {
      "cell_type": "code",
      "metadata": {
        "id": "NWlZpcZgDvVr",
        "colab": {
          "base_uri": "https://localhost:8080/",
          "height": 315
        },
        "outputId": "7b23de00-b2dd-4fa8-a9ad-dc814cf72771"
      },
      "source": [
        "#informações estatisticas de apenas algumas colunas\n",
        "df[['price', 'minimum_nights', 'number_of_reviews', 'reviews_per_month',\n",
        "    'calculated_host_listings_count', 'availability_365']].describe()"
      ],
      "execution_count": null,
      "outputs": [
        {
          "output_type": "execute_result",
          "data": {
            "text/html": [
              "<div>\n",
              "<style scoped>\n",
              "    .dataframe tbody tr th:only-of-type {\n",
              "        vertical-align: middle;\n",
              "    }\n",
              "\n",
              "    .dataframe tbody tr th {\n",
              "        vertical-align: top;\n",
              "    }\n",
              "\n",
              "    .dataframe thead th {\n",
              "        text-align: right;\n",
              "    }\n",
              "</style>\n",
              "<table border=\"1\" class=\"dataframe\">\n",
              "  <thead>\n",
              "    <tr style=\"text-align: right;\">\n",
              "      <th></th>\n",
              "      <th>price</th>\n",
              "      <th>minimum_nights</th>\n",
              "      <th>number_of_reviews</th>\n",
              "      <th>reviews_per_month</th>\n",
              "      <th>calculated_host_listings_count</th>\n",
              "      <th>availability_365</th>\n",
              "    </tr>\n",
              "  </thead>\n",
              "  <tbody>\n",
              "    <tr>\n",
              "      <th>count</th>\n",
              "      <td>23635.000000</td>\n",
              "      <td>23635.000000</td>\n",
              "      <td>23635.000000</td>\n",
              "      <td>14980.000000</td>\n",
              "      <td>23635.000000</td>\n",
              "      <td>23635.000000</td>\n",
              "    </tr>\n",
              "    <tr>\n",
              "      <th>mean</th>\n",
              "      <td>751.329300</td>\n",
              "      <td>4.919018</td>\n",
              "      <td>13.207489</td>\n",
              "      <td>0.602536</td>\n",
              "      <td>7.396361</td>\n",
              "      <td>246.030379</td>\n",
              "    </tr>\n",
              "    <tr>\n",
              "      <th>std</th>\n",
              "      <td>5477.207312</td>\n",
              "      <td>20.702676</td>\n",
              "      <td>31.962546</td>\n",
              "      <td>0.864291</td>\n",
              "      <td>22.759622</td>\n",
              "      <td>123.474424</td>\n",
              "    </tr>\n",
              "    <tr>\n",
              "      <th>min</th>\n",
              "      <td>0.000000</td>\n",
              "      <td>1.000000</td>\n",
              "      <td>0.000000</td>\n",
              "      <td>0.010000</td>\n",
              "      <td>1.000000</td>\n",
              "      <td>0.000000</td>\n",
              "    </tr>\n",
              "    <tr>\n",
              "      <th>25%</th>\n",
              "      <td>150.000000</td>\n",
              "      <td>1.000000</td>\n",
              "      <td>0.000000</td>\n",
              "      <td>0.090000</td>\n",
              "      <td>1.000000</td>\n",
              "      <td>130.000000</td>\n",
              "    </tr>\n",
              "    <tr>\n",
              "      <th>50%</th>\n",
              "      <td>256.000000</td>\n",
              "      <td>2.000000</td>\n",
              "      <td>2.000000</td>\n",
              "      <td>0.240000</td>\n",
              "      <td>1.000000</td>\n",
              "      <td>297.000000</td>\n",
              "    </tr>\n",
              "    <tr>\n",
              "      <th>75%</th>\n",
              "      <td>511.000000</td>\n",
              "      <td>4.000000</td>\n",
              "      <td>10.000000</td>\n",
              "      <td>0.790000</td>\n",
              "      <td>3.000000</td>\n",
              "      <td>364.000000</td>\n",
              "    </tr>\n",
              "    <tr>\n",
              "      <th>max</th>\n",
              "      <td>586229.000000</td>\n",
              "      <td>1100.000000</td>\n",
              "      <td>466.000000</td>\n",
              "      <td>26.960000</td>\n",
              "      <td>195.000000</td>\n",
              "      <td>365.000000</td>\n",
              "    </tr>\n",
              "  </tbody>\n",
              "</table>\n",
              "</div>"
            ],
            "text/plain": [
              "               price  ...  availability_365\n",
              "count   23635.000000  ...      23635.000000\n",
              "mean      751.329300  ...        246.030379\n",
              "std      5477.207312  ...        123.474424\n",
              "min         0.000000  ...          0.000000\n",
              "25%       150.000000  ...        130.000000\n",
              "50%       256.000000  ...        297.000000\n",
              "75%       511.000000  ...        364.000000\n",
              "max    586229.000000  ...        365.000000\n",
              "\n",
              "[8 rows x 6 columns]"
            ]
          },
          "metadata": {},
          "execution_count": 24
        }
      ]
    },
    {
      "cell_type": "markdown",
      "metadata": {
        "id": "DkvfT0b8hEQj"
      },
      "source": [
        "Olhando o resumo estatístico acima, podemos confirmar algumas hipóteses como:\n",
        "\n",
        "* A variável `price` possui 75% do valor abaixo de 599, porém seu valor máximo é 586229.\n",
        "* A quantidade mínima de noites (`minimum_nights`) está acima do limite real de 365 dias no ano.\n"
      ]
    },
    {
      "cell_type": "markdown",
      "metadata": {
        "id": "e22pxzvpjb4x"
      },
      "source": [
        "\n",
        "#### Boxplot para minimum_nights\n",
        "\n",
        "Valores maiores que 30 para noites mínimas são dados fora do padrão, atrapalham nossa análise, então descobrimos que acima de 30 noites, os apartamentos possuem 202 entradas (dos 23365), que correspondem 0.85% dos dados, isso implica que esses dados não são tão interessantes."
      ]
    },
    {
      "cell_type": "code",
      "metadata": {
        "colab": {
          "base_uri": "https://localhost:8080/",
          "height": 263
        },
        "id": "gGmwr7fujdHs",
        "outputId": "ed271a47-e603-4e65-eb2f-9bc38b37e5cc"
      },
      "source": [
        "# minimum_nights\n",
        "df.minimum_nights.plot(kind='box', vert=False, figsize=(15, 3))\n",
        "plt.show()\n",
        "\n",
        "# ver quantidade de valores acima de 30 dias para minimum_nights\n",
        "print(\"minimum_nights: valores acima de 30:\")\n",
        "print(\"{} entradas\".format(len(df[df.minimum_nights > 30])))\n",
        "print(\"{:.4f}%\".format((len(df[df.minimum_nights > 30]) / df.shape[0])*100))\n"
      ],
      "execution_count": 23,
      "outputs": [
        {
          "output_type": "display_data",
          "data": {
            "image/png": "[encoded data removed]",
            "text/plain": [
              "<Figure size 1080x216 with 1 Axes>"
            ]
          },
          "metadata": {
            "needs_background": "light"
          }
        },
        {
          "output_type": "stream",
          "name": "stdout",
          "text": [
            "minimum_nights: valores acima de 30:\n",
            "202 entradas\n",
            "0.8547%\n"
          ]
        }
      ]
    },
    {
      "cell_type": "code",
      "metadata": {
        "colab": {
          "base_uri": "https://localhost:8080/",
          "height": 265
        },
        "id": "KP7wakZHjmQn",
        "outputId": "31732166-4c78-4b75-d05f-c259a855fcea"
      },
      "source": [
        "#sem parametros de exibição\n",
        "df.minimum_nights.plot();"
      ],
      "execution_count": 24,
      "outputs": [
        {
          "output_type": "display_data",
          "data": {
            "image/png": "[encoded data removed]",
            "text/plain": [
              "<Figure size 432x288 with 1 Axes>"
            ]
          },
          "metadata": {
            "needs_background": "light"
          }
        }
      ]
    },
    {
      "cell_type": "code",
      "metadata": {
        "colab": {
          "base_uri": "https://localhost:8080/",
          "height": 266
        },
        "id": "Olc3Ufzojrer",
        "outputId": "82f4976e-d1e8-47e5-c303-64988d8cee5e"
      },
      "source": [
        "#do tipo boxplot\n",
        "df.minimum_nights.plot(kind='box');"
      ],
      "execution_count": 25,
      "outputs": [
        {
          "output_type": "display_data",
          "data": {
            "image/png": "[encoded data removed]",
            "text/plain": [
              "<Figure size 432x288 with 1 Axes>"
            ]
          },
          "metadata": {
            "needs_background": "light"
          }
        }
      ]
    },
    {
      "cell_type": "code",
      "metadata": {
        "colab": {
          "base_uri": "https://localhost:8080/",
          "height": 211
        },
        "id": "oo0JrLnSka5s",
        "outputId": "d1a391d8-fe62-48f2-f748-09d2578f3d9c"
      },
      "source": [
        "#agora com o gráfico na horizontal e com o tamanho ajustado\n",
        "df.minimum_nights.plot(kind='box', vert=False, figsize=(15,3));"
      ],
      "execution_count": 26,
      "outputs": [
        {
          "output_type": "display_data",
          "data": {
            "image/png": "[encoded data removed]",
            "text/plain": [
              "<Figure size 1080x216 with 1 Axes>"
            ]
          },
          "metadata": {
            "needs_background": "light"
          }
        }
      ]
    },
    {
      "cell_type": "code",
      "metadata": {
        "colab": {
          "base_uri": "https://localhost:8080/",
          "height": 263
        },
        "id": "94QqnQIFk2a2",
        "outputId": "ca3cf8ff-77f0-4158-dc65-6748841bb8b4"
      },
      "source": [
        "#boxplot para price\n",
        "df.price.plot(kind='box', vert=False, figsize=(15, 3));\n",
        "plt.show()\n",
        "\n",
        "#checando as noites pelo preço maior que 1500\n",
        "print(\"price: valores acima de 1500:\")\n",
        "print(\"{} entradas\".format(len(df[df.price > 1500])))\n",
        "print(\"{:.4f}%\".format((len(df[df.price > 1500]) / df.shape[0])*100))"
      ],
      "execution_count": 27,
      "outputs": [
        {
          "output_type": "display_data",
          "data": {
            "image/png": "[encoded data removed]",
            "text/plain": [
              "<Figure size 1080x216 with 1 Axes>"
            ]
          },
          "metadata": {
            "needs_background": "light"
          }
        },
        {
          "output_type": "stream",
          "name": "stdout",
          "text": [
            "price: valores acima de 1500:\n",
            "1563 entradas\n",
            "6.6131%\n"
          ]
        }
      ]
    },
    {
      "cell_type": "markdown",
      "metadata": {
        "id": "86rGN0Byn7CW"
      },
      "source": [
        "#### Histogramas sem *outliers*\n",
        "\n",
        "Já que identificamos *outliers* nas variáveis `price` e `minimum_nights`, vamos agora limpar o *DataFrame* delas e plotar novamente o histograma."
      ]
    },
    {
      "cell_type": "code",
      "metadata": {
        "colab": {
          "base_uri": "https://localhost:8080/",
          "height": 607
        },
        "id": "gKAmn5uwoFTm",
        "outputId": "a26eb22d-a299-467b-b1d2-a4007a4ed05d"
      },
      "source": [
        "#remover os 'outliers' em um novo dataframe\n",
        "df_clean = df.copy() #copiando df para uma copia de df chamada df_clean\n",
        "df_clean.drop(df_clean[df_clean.price > 1500].index, axis=0, inplace=True)\n",
        "df_clean.drop(df_clean[df_clean.minimum_nights > 30].index, axis=0, inplace=True)\n",
        "\n",
        "#remover 'neighbourhood_group' pois está vazio\n",
        "df_clean.drop('neighbourhood_group', axis=1, inplace=True) #axis = 1 (refere-se a coluna)\n",
        "\n",
        "#plotar o histogramas para as variáveis numéricasw\n",
        "df_clean.hist(bins=15, figsize=(15,10));"
      ],
      "execution_count": 28,
      "outputs": [
        {
          "output_type": "display_data",
          "data": {
            "image/png": "[encoded data removed]",
            "text/plain": [
              "<Figure size 1080x720 with 12 Axes>"
            ]
          },
          "metadata": {
            "needs_background": "light"
          }
        }
      ]
    },
    {
      "cell_type": "code",
      "metadata": {
        "colab": {
          "base_uri": "https://localhost:8080/",
          "height": 263
        },
        "id": "N2MKqxx1qvbN",
        "outputId": "e6bf51bf-7623-4fc0-8ee7-1608ce5431c5"
      },
      "source": [
        "#podemos melhorar o grafico de reviews também\n",
        "\n",
        "#verificando os outliers\n",
        "df.number_of_reviews.plot(kind='box', vert=False, figsize=(15,3));\n",
        "\n",
        "#verificando os números maiores que 100\n",
        "print(\"numbers_of_reviews: valores acima de 100:\")\n",
        "print(\"{} entradas\".format(len(df[df.number_of_reviews > 150])))\n",
        "print(\"{:.4f}%\".format((len(df[df.number_of_reviews > 150]) / df.shape[0])*100))\n",
        "\n",
        "#removendo os dados excedentes com drop\n",
        "df_clean.drop(df_clean[df_clean.number_of_reviews > 150].index, axis=0, inplace=True)"
      ],
      "execution_count": 29,
      "outputs": [
        {
          "output_type": "stream",
          "name": "stdout",
          "text": [
            "numbers_of_reviews: valores acima de 100:\n",
            "279 entradas\n",
            "1.1805%\n"
          ]
        },
        {
          "output_type": "display_data",
          "data": {
            "image/png": "[encoded data removed]",
            "text/plain": [
              "<Figure size 1080x216 with 1 Axes>"
            ]
          },
          "metadata": {
            "needs_background": "light"
          }
        }
      ]
    },
    {
      "cell_type": "code",
      "metadata": {
        "colab": {
          "base_uri": "https://localhost:8080/",
          "height": 607
        },
        "id": "CeqRJdXnrha6",
        "outputId": "23303142-f1f7-40b6-ea4c-9b1ec3dde926"
      },
      "source": [
        "df_clean.hist(bins=15, figsize=(15,10));\n",
        "#note que foram removidos do eixo x os outliers dos atributos"
      ],
      "execution_count": 31,
      "outputs": [
        {
          "output_type": "display_data",
          "data": {
            "image/png": "[encoded data removed]",
            "text/plain": [
              "<Figure size 1080x720 with 12 Axes>"
            ]
          },
          "metadata": {
            "needs_background": "light"
          }
        }
      ]
    },
    {
      "cell_type": "markdown",
      "metadata": {
        "id": "csh4gWn4u29b"
      },
      "source": [
        "###Qual a correlação existente entre as variáveis\n",
        "\n",
        "Correlação significa que existe uma relação entre duas coisas. No nosso contexto, estamos buscando relação ou semelhança entre duas variáveis.\n",
        "\n",
        "Essa relação pode ser medida, e é função do coeficiente de correlação estabelecer qual a intensidade dela. Para identificar as correlações existentes entre as variáveis de interesse, vou:\n",
        "\n",
        "* Criar uma matriz de correlação\n",
        "* Gerar um *heatmap* a partir dessa matriz, usando a biblioteca `seaborn`"
      ]
    },
    {
      "cell_type": "code",
      "metadata": {
        "id": "YYNExzo-vhO9"
      },
      "source": [
        "#correlação não é causa e efeito (spurious correlation https://www.tylervigen.com/spurious-correlations)"
      ],
      "execution_count": null,
      "outputs": []
    },
    {
      "cell_type": "code",
      "metadata": {
        "colab": {
          "base_uri": "https://localhost:8080/",
          "height": 490
        },
        "id": "nMnhM4C7Av8b",
        "outputId": "698385e2-9a7f-4017-c80c-15e1adb351cf"
      },
      "source": [
        "#me dá as correlações de todas as colunas\n",
        "df_clean.corr()"
      ],
      "execution_count": 32,
      "outputs": [
        {
          "output_type": "execute_result",
          "data": {
            "text/html": [
              "\n",
              "  <div id=\"df-15e66fcf-e367-4238-bd73-8eefcd9a70ce\">\n",
              "    <div class=\"colab-df-container\">\n",
              "      <div>\n",
              "<style scoped>\n",
              "    .dataframe tbody tr th:only-of-type {\n",
              "        vertical-align: middle;\n",
              "    }\n",
              "\n",
              "    .dataframe tbody tr th {\n",
              "        vertical-align: top;\n",
              "    }\n",
              "\n",
              "    .dataframe thead th {\n",
              "        text-align: right;\n",
              "    }\n",
              "</style>\n",
              "<table border=\"1\" class=\"dataframe\">\n",
              "  <thead>\n",
              "    <tr style=\"text-align: right;\">\n",
              "      <th></th>\n",
              "      <th>id</th>\n",
              "      <th>host_id</th>\n",
              "      <th>latitude</th>\n",
              "      <th>longitude</th>\n",
              "      <th>price</th>\n",
              "      <th>minimum_nights</th>\n",
              "      <th>number_of_reviews</th>\n",
              "      <th>reviews_per_month</th>\n",
              "      <th>calculated_host_listings_count</th>\n",
              "      <th>availability_365</th>\n",
              "      <th>number_of_reviews_ltm</th>\n",
              "      <th>license</th>\n",
              "    </tr>\n",
              "  </thead>\n",
              "  <tbody>\n",
              "    <tr>\n",
              "      <th>id</th>\n",
              "      <td>1.000000</td>\n",
              "      <td>0.558905</td>\n",
              "      <td>-0.027045</td>\n",
              "      <td>-0.025535</td>\n",
              "      <td>-0.156113</td>\n",
              "      <td>-0.105710</td>\n",
              "      <td>-0.267925</td>\n",
              "      <td>0.232968</td>\n",
              "      <td>0.094060</td>\n",
              "      <td>-0.157705</td>\n",
              "      <td>0.060406</td>\n",
              "      <td>NaN</td>\n",
              "    </tr>\n",
              "    <tr>\n",
              "      <th>host_id</th>\n",
              "      <td>0.558905</td>\n",
              "      <td>1.000000</td>\n",
              "      <td>0.023647</td>\n",
              "      <td>-0.104458</td>\n",
              "      <td>-0.119134</td>\n",
              "      <td>-0.088609</td>\n",
              "      <td>-0.154612</td>\n",
              "      <td>0.137135</td>\n",
              "      <td>0.016398</td>\n",
              "      <td>-0.073518</td>\n",
              "      <td>0.026942</td>\n",
              "      <td>NaN</td>\n",
              "    </tr>\n",
              "    <tr>\n",
              "      <th>latitude</th>\n",
              "      <td>-0.027045</td>\n",
              "      <td>0.023647</td>\n",
              "      <td>1.000000</td>\n",
              "      <td>0.337881</td>\n",
              "      <td>-0.187987</td>\n",
              "      <td>-0.023894</td>\n",
              "      <td>-0.066297</td>\n",
              "      <td>-0.054548</td>\n",
              "      <td>-0.079358</td>\n",
              "      <td>0.064657</td>\n",
              "      <td>-0.076156</td>\n",
              "      <td>NaN</td>\n",
              "    </tr>\n",
              "    <tr>\n",
              "      <th>longitude</th>\n",
              "      <td>-0.025535</td>\n",
              "      <td>-0.104458</td>\n",
              "      <td>0.337881</td>\n",
              "      <td>1.000000</td>\n",
              "      <td>-0.111864</td>\n",
              "      <td>-0.035703</td>\n",
              "      <td>0.101489</td>\n",
              "      <td>0.017664</td>\n",
              "      <td>0.083036</td>\n",
              "      <td>-0.080575</td>\n",
              "      <td>0.013928</td>\n",
              "      <td>NaN</td>\n",
              "    </tr>\n",
              "    <tr>\n",
              "      <th>price</th>\n",
              "      <td>-0.156113</td>\n",
              "      <td>-0.119134</td>\n",
              "      <td>-0.187987</td>\n",
              "      <td>-0.111864</td>\n",
              "      <td>1.000000</td>\n",
              "      <td>0.132711</td>\n",
              "      <td>-0.172124</td>\n",
              "      <td>-0.155291</td>\n",
              "      <td>0.078064</td>\n",
              "      <td>0.128078</td>\n",
              "      <td>-0.146051</td>\n",
              "      <td>NaN</td>\n",
              "    </tr>\n",
              "    <tr>\n",
              "      <th>minimum_nights</th>\n",
              "      <td>-0.105710</td>\n",
              "      <td>-0.088609</td>\n",
              "      <td>-0.023894</td>\n",
              "      <td>-0.035703</td>\n",
              "      <td>0.132711</td>\n",
              "      <td>1.000000</td>\n",
              "      <td>-0.067183</td>\n",
              "      <td>-0.091048</td>\n",
              "      <td>-0.050339</td>\n",
              "      <td>0.010557</td>\n",
              "      <td>-0.097521</td>\n",
              "      <td>NaN</td>\n",
              "    </tr>\n",
              "    <tr>\n",
              "      <th>number_of_reviews</th>\n",
              "      <td>-0.267925</td>\n",
              "      <td>-0.154612</td>\n",
              "      <td>-0.066297</td>\n",
              "      <td>0.101489</td>\n",
              "      <td>-0.172124</td>\n",
              "      <td>-0.067183</td>\n",
              "      <td>1.000000</td>\n",
              "      <td>0.596238</td>\n",
              "      <td>-0.055493</td>\n",
              "      <td>-0.164472</td>\n",
              "      <td>0.606050</td>\n",
              "      <td>NaN</td>\n",
              "    </tr>\n",
              "    <tr>\n",
              "      <th>reviews_per_month</th>\n",
              "      <td>0.232968</td>\n",
              "      <td>0.137135</td>\n",
              "      <td>-0.054548</td>\n",
              "      <td>0.017664</td>\n",
              "      <td>-0.155291</td>\n",
              "      <td>-0.091048</td>\n",
              "      <td>0.596238</td>\n",
              "      <td>1.000000</td>\n",
              "      <td>0.007802</td>\n",
              "      <td>-0.205535</td>\n",
              "      <td>0.779087</td>\n",
              "      <td>NaN</td>\n",
              "    </tr>\n",
              "    <tr>\n",
              "      <th>calculated_host_listings_count</th>\n",
              "      <td>0.094060</td>\n",
              "      <td>0.016398</td>\n",
              "      <td>-0.079358</td>\n",
              "      <td>0.083036</td>\n",
              "      <td>0.078064</td>\n",
              "      <td>-0.050339</td>\n",
              "      <td>-0.055493</td>\n",
              "      <td>0.007802</td>\n",
              "      <td>1.000000</td>\n",
              "      <td>0.015056</td>\n",
              "      <td>-0.025522</td>\n",
              "      <td>NaN</td>\n",
              "    </tr>\n",
              "    <tr>\n",
              "      <th>availability_365</th>\n",
              "      <td>-0.157705</td>\n",
              "      <td>-0.073518</td>\n",
              "      <td>0.064657</td>\n",
              "      <td>-0.080575</td>\n",
              "      <td>0.128078</td>\n",
              "      <td>0.010557</td>\n",
              "      <td>-0.164472</td>\n",
              "      <td>-0.205535</td>\n",
              "      <td>0.015056</td>\n",
              "      <td>1.000000</td>\n",
              "      <td>-0.173402</td>\n",
              "      <td>NaN</td>\n",
              "    </tr>\n",
              "    <tr>\n",
              "      <th>number_of_reviews_ltm</th>\n",
              "      <td>0.060406</td>\n",
              "      <td>0.026942</td>\n",
              "      <td>-0.076156</td>\n",
              "      <td>0.013928</td>\n",
              "      <td>-0.146051</td>\n",
              "      <td>-0.097521</td>\n",
              "      <td>0.606050</td>\n",
              "      <td>0.779087</td>\n",
              "      <td>-0.025522</td>\n",
              "      <td>-0.173402</td>\n",
              "      <td>1.000000</td>\n",
              "      <td>NaN</td>\n",
              "    </tr>\n",
              "    <tr>\n",
              "      <th>license</th>\n",
              "      <td>NaN</td>\n",
              "      <td>NaN</td>\n",
              "      <td>NaN</td>\n",
              "      <td>NaN</td>\n",
              "      <td>NaN</td>\n",
              "      <td>NaN</td>\n",
              "      <td>NaN</td>\n",
              "      <td>NaN</td>\n",
              "      <td>NaN</td>\n",
              "      <td>NaN</td>\n",
              "      <td>NaN</td>\n",
              "      <td>NaN</td>\n",
              "    </tr>\n",
              "  </tbody>\n",
              "</table>\n",
              "</div>\n",
              "      <button class=\"colab-df-convert\" onclick=\"convertToInteractive('df-15e66fcf-e367-4238-bd73-8eefcd9a70ce')\"\n",
              "              title=\"Convert this dataframe to an interactive table.\"\n",
              "              style=\"display:none;\">\n",
              "        \n",
              "  <svg xmlns=\"http://www.w3.org/2000/svg\" height=\"24px\"viewBox=\"0 0 24 24\"\n",
              "       width=\"24px\">\n",
              "    <path d=\"M0 0h24v24H0V0z\" fill=\"none\"/>\n",
              "    <path d=\"M18.56 5.44l.94 2.06.94-2.06 2.06-.94-2.06-.94-.94-2.06-.94 2.06-2.06.94zm-11 1L8.5 8.5l.94-2.06 2.06-.94-2.06-.94L8.5 2.5l-.94 2.06-2.06.94zm10 10l.94 2.06.94-2.06 2.06-.94-2.06-.94-.94-2.06-.94 2.06-2.06.94z\"/><path d=\"M17.41 7.96l-1.37-1.37c-.4-.4-.92-.59-1.43-.59-.52 0-1.04.2-1.43.59L10.3 9.45l-7.72 7.72c-.78.78-.78 2.05 0 2.83L4 21.41c.39.39.9.59 1.41.59.51 0 1.02-.2 1.41-.59l7.78-7.78 2.81-2.81c.8-.78.8-2.07 0-2.86zM5.41 20L4 18.59l7.72-7.72 1.47 1.35L5.41 20z\"/>\n",
              "  </svg>\n",
              "      </button>\n",
              "      \n",
              "  <style>\n",
              "    .colab-df-container {\n",
              "      display:flex;\n",
              "      flex-wrap:wrap;\n",
              "      gap: 12px;\n",
              "    }\n",
              "\n",
              "    .colab-df-convert {\n",
              "      background-color: #E8F0FE;\n",
              "      border: none;\n",
              "      border-radius: 50%;\n",
              "      cursor: pointer;\n",
              "      display: none;\n",
              "      fill: #1967D2;\n",
              "      height: 32px;\n",
              "      padding: 0 0 0 0;\n",
              "      width: 32px;\n",
              "    }\n",
              "\n",
              "    .colab-df-convert:hover {\n",
              "      background-color: #E2EBFA;\n",
              "      box-shadow: 0px 1px 2px rgba(60, 64, 67, 0.3), 0px 1px 3px 1px rgba(60, 64, 67, 0.15);\n",
              "      fill: #174EA6;\n",
              "    }\n",
              "\n",
              "    [theme=dark] .colab-df-convert {\n",
              "      background-color: #3B4455;\n",
              "      fill: #D2E3FC;\n",
              "    }\n",
              "\n",
              "    [theme=dark] .colab-df-convert:hover {\n",
              "      background-color: #434B5C;\n",
              "      box-shadow: 0px 1px 3px 1px rgba(0, 0, 0, 0.15);\n",
              "      filter: drop-shadow(0px 1px 2px rgba(0, 0, 0, 0.3));\n",
              "      fill: #FFFFFF;\n",
              "    }\n",
              "  </style>\n",
              "\n",
              "      <script>\n",
              "        const buttonEl =\n",
              "          document.querySelector('#df-15e66fcf-e367-4238-bd73-8eefcd9a70ce button.colab-df-convert');\n",
              "        buttonEl.style.display =\n",
              "          google.colab.kernel.accessAllowed ? 'block' : 'none';\n",
              "\n",
              "        async function convertToInteractive(key) {\n",
              "          const element = document.querySelector('#df-15e66fcf-e367-4238-bd73-8eefcd9a70ce');\n",
              "          const dataTable =\n",
              "            await google.colab.kernel.invokeFunction('convertToInteractive',\n",
              "                                                     [key], {});\n",
              "          if (!dataTable) return;\n",
              "\n",
              "          const docLinkHtml = 'Like what you see? Visit the ' +\n",
              "            '<a target=\"_blank\" href=https://colab.research.google.com/notebooks/data_table.ipynb>data table notebook</a>'\n",
              "            + ' to learn more about interactive tables.';\n",
              "          element.innerHTML = '';\n",
              "          dataTable['output_type'] = 'display_data';\n",
              "          await google.colab.output.renderOutput(dataTable, element);\n",
              "          const docLink = document.createElement('div');\n",
              "          docLink.innerHTML = docLinkHtml;\n",
              "          element.appendChild(docLink);\n",
              "        }\n",
              "      </script>\n",
              "    </div>\n",
              "  </div>\n",
              "  "
            ],
            "text/plain": [
              "                                      id  ...  license\n",
              "id                              1.000000  ...      NaN\n",
              "host_id                         0.558905  ...      NaN\n",
              "latitude                       -0.027045  ...      NaN\n",
              "longitude                      -0.025535  ...      NaN\n",
              "price                          -0.156113  ...      NaN\n",
              "minimum_nights                 -0.105710  ...      NaN\n",
              "number_of_reviews              -0.267925  ...      NaN\n",
              "reviews_per_month               0.232968  ...      NaN\n",
              "calculated_host_listings_count  0.094060  ...      NaN\n",
              "availability_365               -0.157705  ...      NaN\n",
              "number_of_reviews_ltm           0.060406  ...      NaN\n",
              "license                              NaN  ...      NaN\n",
              "\n",
              "[12 rows x 12 columns]"
            ]
          },
          "metadata": {},
          "execution_count": 32
        }
      ]
    },
    {
      "cell_type": "code",
      "metadata": {
        "colab": {
          "base_uri": "https://localhost:8080/",
          "height": 238
        },
        "id": "9G-u1qs1AmJj",
        "outputId": "4b6c98e7-a6d1-45b4-cc94-319a188853a2"
      },
      "source": [
        "#criar uma matriz de correlação, me dá a correlação entra as colunas que escolhi\n",
        "corr = df_clean[['price', 'minimum_nights', 'number_of_reviews', \n",
        "                 'reviews_per_month', 'calculated_host_listings_count',\n",
        "                 'availability_365']].corr()\n",
        "display(corr)"
      ],
      "execution_count": 33,
      "outputs": [
        {
          "output_type": "display_data",
          "data": {
            "text/html": [
              "\n",
              "  <div id=\"df-4c31385e-c6e4-47c5-9035-62fc35b07e3d\">\n",
              "    <div class=\"colab-df-container\">\n",
              "      <div>\n",
              "<style scoped>\n",
              "    .dataframe tbody tr th:only-of-type {\n",
              "        vertical-align: middle;\n",
              "    }\n",
              "\n",
              "    .dataframe tbody tr th {\n",
              "        vertical-align: top;\n",
              "    }\n",
              "\n",
              "    .dataframe thead th {\n",
              "        text-align: right;\n",
              "    }\n",
              "</style>\n",
              "<table border=\"1\" class=\"dataframe\">\n",
              "  <thead>\n",
              "    <tr style=\"text-align: right;\">\n",
              "      <th></th>\n",
              "      <th>price</th>\n",
              "      <th>minimum_nights</th>\n",
              "      <th>number_of_reviews</th>\n",
              "      <th>reviews_per_month</th>\n",
              "      <th>calculated_host_listings_count</th>\n",
              "      <th>availability_365</th>\n",
              "    </tr>\n",
              "  </thead>\n",
              "  <tbody>\n",
              "    <tr>\n",
              "      <th>price</th>\n",
              "      <td>1.000000</td>\n",
              "      <td>0.132711</td>\n",
              "      <td>-0.172124</td>\n",
              "      <td>-0.155291</td>\n",
              "      <td>0.078064</td>\n",
              "      <td>0.128078</td>\n",
              "    </tr>\n",
              "    <tr>\n",
              "      <th>minimum_nights</th>\n",
              "      <td>0.132711</td>\n",
              "      <td>1.000000</td>\n",
              "      <td>-0.067183</td>\n",
              "      <td>-0.091048</td>\n",
              "      <td>-0.050339</td>\n",
              "      <td>0.010557</td>\n",
              "    </tr>\n",
              "    <tr>\n",
              "      <th>number_of_reviews</th>\n",
              "      <td>-0.172124</td>\n",
              "      <td>-0.067183</td>\n",
              "      <td>1.000000</td>\n",
              "      <td>0.596238</td>\n",
              "      <td>-0.055493</td>\n",
              "      <td>-0.164472</td>\n",
              "    </tr>\n",
              "    <tr>\n",
              "      <th>reviews_per_month</th>\n",
              "      <td>-0.155291</td>\n",
              "      <td>-0.091048</td>\n",
              "      <td>0.596238</td>\n",
              "      <td>1.000000</td>\n",
              "      <td>0.007802</td>\n",
              "      <td>-0.205535</td>\n",
              "    </tr>\n",
              "    <tr>\n",
              "      <th>calculated_host_listings_count</th>\n",
              "      <td>0.078064</td>\n",
              "      <td>-0.050339</td>\n",
              "      <td>-0.055493</td>\n",
              "      <td>0.007802</td>\n",
              "      <td>1.000000</td>\n",
              "      <td>0.015056</td>\n",
              "    </tr>\n",
              "    <tr>\n",
              "      <th>availability_365</th>\n",
              "      <td>0.128078</td>\n",
              "      <td>0.010557</td>\n",
              "      <td>-0.164472</td>\n",
              "      <td>-0.205535</td>\n",
              "      <td>0.015056</td>\n",
              "      <td>1.000000</td>\n",
              "    </tr>\n",
              "  </tbody>\n",
              "</table>\n",
              "</div>\n",
              "      <button class=\"colab-df-convert\" onclick=\"convertToInteractive('df-4c31385e-c6e4-47c5-9035-62fc35b07e3d')\"\n",
              "              title=\"Convert this dataframe to an interactive table.\"\n",
              "              style=\"display:none;\">\n",
              "        \n",
              "  <svg xmlns=\"http://www.w3.org/2000/svg\" height=\"24px\"viewBox=\"0 0 24 24\"\n",
              "       width=\"24px\">\n",
              "    <path d=\"M0 0h24v24H0V0z\" fill=\"none\"/>\n",
              "    <path d=\"M18.56 5.44l.94 2.06.94-2.06 2.06-.94-2.06-.94-.94-2.06-.94 2.06-2.06.94zm-11 1L8.5 8.5l.94-2.06 2.06-.94-2.06-.94L8.5 2.5l-.94 2.06-2.06.94zm10 10l.94 2.06.94-2.06 2.06-.94-2.06-.94-.94-2.06-.94 2.06-2.06.94z\"/><path d=\"M17.41 7.96l-1.37-1.37c-.4-.4-.92-.59-1.43-.59-.52 0-1.04.2-1.43.59L10.3 9.45l-7.72 7.72c-.78.78-.78 2.05 0 2.83L4 21.41c.39.39.9.59 1.41.59.51 0 1.02-.2 1.41-.59l7.78-7.78 2.81-2.81c.8-.78.8-2.07 0-2.86zM5.41 20L4 18.59l7.72-7.72 1.47 1.35L5.41 20z\"/>\n",
              "  </svg>\n",
              "      </button>\n",
              "      \n",
              "  <style>\n",
              "    .colab-df-container {\n",
              "      display:flex;\n",
              "      flex-wrap:wrap;\n",
              "      gap: 12px;\n",
              "    }\n",
              "\n",
              "    .colab-df-convert {\n",
              "      background-color: #E8F0FE;\n",
              "      border: none;\n",
              "      border-radius: 50%;\n",
              "      cursor: pointer;\n",
              "      display: none;\n",
              "      fill: #1967D2;\n",
              "      height: 32px;\n",
              "      padding: 0 0 0 0;\n",
              "      width: 32px;\n",
              "    }\n",
              "\n",
              "    .colab-df-convert:hover {\n",
              "      background-color: #E2EBFA;\n",
              "      box-shadow: 0px 1px 2px rgba(60, 64, 67, 0.3), 0px 1px 3px 1px rgba(60, 64, 67, 0.15);\n",
              "      fill: #174EA6;\n",
              "    }\n",
              "\n",
              "    [theme=dark] .colab-df-convert {\n",
              "      background-color: #3B4455;\n",
              "      fill: #D2E3FC;\n",
              "    }\n",
              "\n",
              "    [theme=dark] .colab-df-convert:hover {\n",
              "      background-color: #434B5C;\n",
              "      box-shadow: 0px 1px 3px 1px rgba(0, 0, 0, 0.15);\n",
              "      filter: drop-shadow(0px 1px 2px rgba(0, 0, 0, 0.3));\n",
              "      fill: #FFFFFF;\n",
              "    }\n",
              "  </style>\n",
              "\n",
              "      <script>\n",
              "        const buttonEl =\n",
              "          document.querySelector('#df-4c31385e-c6e4-47c5-9035-62fc35b07e3d button.colab-df-convert');\n",
              "        buttonEl.style.display =\n",
              "          google.colab.kernel.accessAllowed ? 'block' : 'none';\n",
              "\n",
              "        async function convertToInteractive(key) {\n",
              "          const element = document.querySelector('#df-4c31385e-c6e4-47c5-9035-62fc35b07e3d');\n",
              "          const dataTable =\n",
              "            await google.colab.kernel.invokeFunction('convertToInteractive',\n",
              "                                                     [key], {});\n",
              "          if (!dataTable) return;\n",
              "\n",
              "          const docLinkHtml = 'Like what you see? Visit the ' +\n",
              "            '<a target=\"_blank\" href=https://colab.research.google.com/notebooks/data_table.ipynb>data table notebook</a>'\n",
              "            + ' to learn more about interactive tables.';\n",
              "          element.innerHTML = '';\n",
              "          dataTable['output_type'] = 'display_data';\n",
              "          await google.colab.output.renderOutput(dataTable, element);\n",
              "          const docLink = document.createElement('div');\n",
              "          docLink.innerHTML = docLinkHtml;\n",
              "          element.appendChild(docLink);\n",
              "        }\n",
              "      </script>\n",
              "    </div>\n",
              "  </div>\n",
              "  "
            ],
            "text/plain": [
              "                                   price  ...  availability_365\n",
              "price                           1.000000  ...          0.128078\n",
              "minimum_nights                  0.132711  ...          0.010557\n",
              "number_of_reviews              -0.172124  ...         -0.164472\n",
              "reviews_per_month              -0.155291  ...         -0.205535\n",
              "calculated_host_listings_count  0.078064  ...          0.015056\n",
              "availability_365                0.128078  ...          1.000000\n",
              "\n",
              "[6 rows x 6 columns]"
            ]
          },
          "metadata": {}
        }
      ]
    },
    {
      "cell_type": "code",
      "metadata": {
        "colab": {
          "base_uri": "https://localhost:8080/",
          "height": 411
        },
        "id": "gJkvXMdTBgye",
        "outputId": "6b432175-f391-4d58-b355-e84c71c42ab8"
      },
      "source": [
        "sns.heatmap(corr, cmap='RdBu', fmt='.2f', \n",
        "            square=True, linecolor='white', annot=True);"
      ],
      "execution_count": 34,
      "outputs": [
        {
          "output_type": "display_data",
          "data": {
            "image/png": "[encoded data removed]",
            "text/plain": [
              "<Figure size 432x288 with 2 Axes>"
            ]
          },
          "metadata": {
            "needs_background": "light"
          }
        }
      ]
    },
    {
      "cell_type": "markdown",
      "metadata": {
        "id": "GV4iW8PJB_YY"
      },
      "source": [
        "###Qual o tipo de imóvel mais alugado no Airbnb?\n",
        "\n",
        "A coluna da variável `room_type` indica o tipo de locação que está anunciada no Airbnb. Se você já alugou no site, sabe que existem opções de apartamentos/casas inteiras, apenas o aluguel de um quarto ou mesmo dividir o quarto com outras pessoas.\n",
        "\n",
        "Vamos contar a quantidade de ocorrências de cada tipo de aluguel, usando o método `value_counts()`.*italicized text*"
      ]
    },
    {
      "cell_type": "code",
      "metadata": {
        "colab": {
          "base_uri": "https://localhost:8080/"
        },
        "id": "oTbkh-5DDjIV",
        "outputId": "745ab707-c05c-4e38-e726-cd352fe53b10"
      },
      "source": [
        "#quantidade de cada tipo de imóvel disponível\n",
        "df_clean.room_type.value_counts()\n",
        "#entire home/apt é o mais alugado"
      ],
      "execution_count": 37,
      "outputs": [
        {
          "output_type": "execute_result",
          "data": {
            "text/plain": [
              "Entire home/apt    15363\n",
              "Private room        5650\n",
              "Shared room          516\n",
              "Hotel room            82\n",
              "Name: room_type, dtype: int64"
            ]
          },
          "metadata": {},
          "execution_count": 37
        }
      ]
    },
    {
      "cell_type": "code",
      "metadata": {
        "colab": {
          "base_uri": "https://localhost:8080/"
        },
        "id": "kdBkmSjxD9wr",
        "outputId": "92dcef8a-c60a-443e-928e-07f488f61111"
      },
      "source": [
        "#porcentagem dos dados\n",
        "df_clean.room_type.value_counts() / df_clean.shape[0]"
      ],
      "execution_count": 38,
      "outputs": [
        {
          "output_type": "execute_result",
          "data": {
            "text/plain": [
              "Entire home/apt    0.710888\n",
              "Private room       0.261441\n",
              "Shared room        0.023877\n",
              "Hotel room         0.003794\n",
              "Name: room_type, dtype: float64"
            ]
          },
          "metadata": {},
          "execution_count": 38
        }
      ]
    },
    {
      "cell_type": "code",
      "metadata": {
        "colab": {
          "base_uri": "https://localhost:8080/"
        },
        "id": "HANJstOEEPwl",
        "outputId": "68331c0a-7221-452b-aec8-ec21f1e1a926"
      },
      "source": [
        "df_clean.groupby(['neighbourhood']).price.mean()\n",
        "#aqui me mostra a média do preço de cada bairro"
      ],
      "execution_count": 39,
      "outputs": [
        {
          "output_type": "execute_result",
          "data": {
            "text/plain": [
              "neighbourhood\n",
              "Abolição             339.000000\n",
              "Acari                250.000000\n",
              "Alto da Boa Vista    484.818182\n",
              "Anchieta             800.000000\n",
              "Andaraí              271.027778\n",
              "                        ...    \n",
              "Vila Valqueire       412.000000\n",
              "Vila da Penha        138.750000\n",
              "Vista Alegre          50.000000\n",
              "Zumbi                149.000000\n",
              "Água Santa           340.000000\n",
              "Name: price, Length: 153, dtype: float64"
            ]
          },
          "metadata": {},
          "execution_count": 39
        }
      ]
    },
    {
      "cell_type": "code",
      "metadata": {
        "colab": {
          "base_uri": "https://localhost:8080/"
        },
        "id": "sH6-2uppEECn",
        "outputId": "3e2eaf62-b314-4df5-c84f-f31afce402c3"
      },
      "source": [
        "df_clean.groupby(['neighbourhood']).price.mean().sort_values(ascending=False)[:10]\n",
        "#esse slice no fim, está servindo apenass para mostraar os 10 primeiros valores (0 a 9)"
      ],
      "execution_count": 40,
      "outputs": [
        {
          "output_type": "execute_result",
          "data": {
            "text/plain": [
              "neighbourhood\n",
              "Caju                  1208.000000\n",
              "Anchieta               800.000000\n",
              "Vaz Lobo               789.500000\n",
              "Realengo               711.500000\n",
              "Pavuna                 590.666667\n",
              "Sepetiba               556.500000\n",
              "Rocha Miranda          551.000000\n",
              "Joá                    524.864865\n",
              "Complexo do Alemão     520.000000\n",
              "Lagoa                  509.156757\n",
              "Name: price, dtype: float64"
            ]
          },
          "metadata": {},
          "execution_count": 40
        }
      ]
    },
    {
      "cell_type": "code",
      "metadata": {
        "colab": {
          "base_uri": "https://localhost:8080/",
          "height": 263
        },
        "id": "aI2QBjYKEzJa",
        "outputId": "65281432-b17a-4557-b7fe-bda0da47560c"
      },
      "source": [
        "#ver a quandidade de imoveis no complexo de alemao\n",
        "print(df[df.neighbourhood == 'Complexo do Alemão'].shape)\n",
        "\n",
        "#ver as entradas do complexo do alemão\n",
        "df[df.neighbourhood == 'Complexo do Alemão']"
      ],
      "execution_count": 41,
      "outputs": [
        {
          "output_type": "stream",
          "name": "stdout",
          "text": [
            "(2, 18)\n"
          ]
        },
        {
          "output_type": "execute_result",
          "data": {
            "text/html": [
              "\n",
              "  <div id=\"df-216fbc89-f0a1-476d-ae93-bab64f0383bd\">\n",
              "    <div class=\"colab-df-container\">\n",
              "      <div>\n",
              "<style scoped>\n",
              "    .dataframe tbody tr th:only-of-type {\n",
              "        vertical-align: middle;\n",
              "    }\n",
              "\n",
              "    .dataframe tbody tr th {\n",
              "        vertical-align: top;\n",
              "    }\n",
              "\n",
              "    .dataframe thead th {\n",
              "        text-align: right;\n",
              "    }\n",
              "</style>\n",
              "<table border=\"1\" class=\"dataframe\">\n",
              "  <thead>\n",
              "    <tr style=\"text-align: right;\">\n",
              "      <th></th>\n",
              "      <th>id</th>\n",
              "      <th>name</th>\n",
              "      <th>host_id</th>\n",
              "      <th>host_name</th>\n",
              "      <th>neighbourhood_group</th>\n",
              "      <th>neighbourhood</th>\n",
              "      <th>latitude</th>\n",
              "      <th>longitude</th>\n",
              "      <th>room_type</th>\n",
              "      <th>price</th>\n",
              "      <th>minimum_nights</th>\n",
              "      <th>number_of_reviews</th>\n",
              "      <th>last_review</th>\n",
              "      <th>reviews_per_month</th>\n",
              "      <th>calculated_host_listings_count</th>\n",
              "      <th>availability_365</th>\n",
              "      <th>number_of_reviews_ltm</th>\n",
              "      <th>license</th>\n",
              "    </tr>\n",
              "  </thead>\n",
              "  <tbody>\n",
              "    <tr>\n",
              "      <th>9612</th>\n",
              "      <td>17148972</td>\n",
              "      <td>Casa Brota</td>\n",
              "      <td>101966262</td>\n",
              "      <td>Thamyra</td>\n",
              "      <td>NaN</td>\n",
              "      <td>Complexo do Alemão</td>\n",
              "      <td>-22.85833</td>\n",
              "      <td>-43.27465</td>\n",
              "      <td>Private room</td>\n",
              "      <td>140</td>\n",
              "      <td>1</td>\n",
              "      <td>6</td>\n",
              "      <td>2018-10-07</td>\n",
              "      <td>0.11</td>\n",
              "      <td>1</td>\n",
              "      <td>90</td>\n",
              "      <td>0</td>\n",
              "      <td>NaN</td>\n",
              "    </tr>\n",
              "    <tr>\n",
              "      <th>10669</th>\n",
              "      <td>21448656</td>\n",
              "      <td>Casa 1 quarto alem</td>\n",
              "      <td>155642978</td>\n",
              "      <td>Felipe</td>\n",
              "      <td>NaN</td>\n",
              "      <td>Complexo do Alemão</td>\n",
              "      <td>-22.85998</td>\n",
              "      <td>-43.27476</td>\n",
              "      <td>Shared room</td>\n",
              "      <td>900</td>\n",
              "      <td>1</td>\n",
              "      <td>1</td>\n",
              "      <td>2017-11-28</td>\n",
              "      <td>0.02</td>\n",
              "      <td>1</td>\n",
              "      <td>365</td>\n",
              "      <td>0</td>\n",
              "      <td>NaN</td>\n",
              "    </tr>\n",
              "  </tbody>\n",
              "</table>\n",
              "</div>\n",
              "      <button class=\"colab-df-convert\" onclick=\"convertToInteractive('df-216fbc89-f0a1-476d-ae93-bab64f0383bd')\"\n",
              "              title=\"Convert this dataframe to an interactive table.\"\n",
              "              style=\"display:none;\">\n",
              "        \n",
              "  <svg xmlns=\"http://www.w3.org/2000/svg\" height=\"24px\"viewBox=\"0 0 24 24\"\n",
              "       width=\"24px\">\n",
              "    <path d=\"M0 0h24v24H0V0z\" fill=\"none\"/>\n",
              "    <path d=\"M18.56 5.44l.94 2.06.94-2.06 2.06-.94-2.06-.94-.94-2.06-.94 2.06-2.06.94zm-11 1L8.5 8.5l.94-2.06 2.06-.94-2.06-.94L8.5 2.5l-.94 2.06-2.06.94zm10 10l.94 2.06.94-2.06 2.06-.94-2.06-.94-.94-2.06-.94 2.06-2.06.94z\"/><path d=\"M17.41 7.96l-1.37-1.37c-.4-.4-.92-.59-1.43-.59-.52 0-1.04.2-1.43.59L10.3 9.45l-7.72 7.72c-.78.78-.78 2.05 0 2.83L4 21.41c.39.39.9.59 1.41.59.51 0 1.02-.2 1.41-.59l7.78-7.78 2.81-2.81c.8-.78.8-2.07 0-2.86zM5.41 20L4 18.59l7.72-7.72 1.47 1.35L5.41 20z\"/>\n",
              "  </svg>\n",
              "      </button>\n",
              "      \n",
              "  <style>\n",
              "    .colab-df-container {\n",
              "      display:flex;\n",
              "      flex-wrap:wrap;\n",
              "      gap: 12px;\n",
              "    }\n",
              "\n",
              "    .colab-df-convert {\n",
              "      background-color: #E8F0FE;\n",
              "      border: none;\n",
              "      border-radius: 50%;\n",
              "      cursor: pointer;\n",
              "      display: none;\n",
              "      fill: #1967D2;\n",
              "      height: 32px;\n",
              "      padding: 0 0 0 0;\n",
              "      width: 32px;\n",
              "    }\n",
              "\n",
              "    .colab-df-convert:hover {\n",
              "      background-color: #E2EBFA;\n",
              "      box-shadow: 0px 1px 2px rgba(60, 64, 67, 0.3), 0px 1px 3px 1px rgba(60, 64, 67, 0.15);\n",
              "      fill: #174EA6;\n",
              "    }\n",
              "\n",
              "    [theme=dark] .colab-df-convert {\n",
              "      background-color: #3B4455;\n",
              "      fill: #D2E3FC;\n",
              "    }\n",
              "\n",
              "    [theme=dark] .colab-df-convert:hover {\n",
              "      background-color: #434B5C;\n",
              "      box-shadow: 0px 1px 3px 1px rgba(0, 0, 0, 0.15);\n",
              "      filter: drop-shadow(0px 1px 2px rgba(0, 0, 0, 0.3));\n",
              "      fill: #FFFFFF;\n",
              "    }\n",
              "  </style>\n",
              "\n",
              "      <script>\n",
              "        const buttonEl =\n",
              "          document.querySelector('#df-216fbc89-f0a1-476d-ae93-bab64f0383bd button.colab-df-convert');\n",
              "        buttonEl.style.display =\n",
              "          google.colab.kernel.accessAllowed ? 'block' : 'none';\n",
              "\n",
              "        async function convertToInteractive(key) {\n",
              "          const element = document.querySelector('#df-216fbc89-f0a1-476d-ae93-bab64f0383bd');\n",
              "          const dataTable =\n",
              "            await google.colab.kernel.invokeFunction('convertToInteractive',\n",
              "                                                     [key], {});\n",
              "          if (!dataTable) return;\n",
              "\n",
              "          const docLinkHtml = 'Like what you see? Visit the ' +\n",
              "            '<a target=\"_blank\" href=https://colab.research.google.com/notebooks/data_table.ipynb>data table notebook</a>'\n",
              "            + ' to learn more about interactive tables.';\n",
              "          element.innerHTML = '';\n",
              "          dataTable['output_type'] = 'display_data';\n",
              "          await google.colab.output.renderOutput(dataTable, element);\n",
              "          const docLink = document.createElement('div');\n",
              "          docLink.innerHTML = docLinkHtml;\n",
              "          element.appendChild(docLink);\n",
              "        }\n",
              "      </script>\n",
              "    </div>\n",
              "  </div>\n",
              "  "
            ],
            "text/plain": [
              "             id                name  ...  number_of_reviews_ltm license\n",
              "9612   17148972          Casa Brota  ...                      0     NaN\n",
              "10669  21448656  Casa 1 quarto alem  ...                      0     NaN\n",
              "\n",
              "[2 rows x 18 columns]"
            ]
          },
          "metadata": {},
          "execution_count": 41
        }
      ]
    },
    {
      "cell_type": "code",
      "metadata": {
        "colab": {
          "base_uri": "https://localhost:8080/"
        },
        "id": "RVHQik7if5DC",
        "outputId": "d9cfdca7-e265-4170-b76d-26cb5744fc7d"
      },
      "source": [
        "print(df[df.neighbourhood == 'Leblon'].shape)\n",
        "df[df.neighbourhood == 'Leblon']\n",
        "\n",
        "df_clean.groupby(['neighbourhood']).price.mean().sort_values(ascending=False)\n",
        "df['neighbourhood']"
      ],
      "execution_count": 42,
      "outputs": [
        {
          "output_type": "stream",
          "name": "stdout",
          "text": [
            "(1085, 18)\n"
          ]
        },
        {
          "output_type": "execute_result",
          "data": {
            "text/plain": [
              "0             Copacabana\n",
              "1                Ipanema\n",
              "2             Copacabana\n",
              "3                Ipanema\n",
              "4             Copacabana\n",
              "              ...       \n",
              "23630            Ipanema\n",
              "23631    Barra da Tijuca\n",
              "23632              Méier\n",
              "23633            Ipanema\n",
              "23634         Copacabana\n",
              "Name: neighbourhood, Length: 23635, dtype: object"
            ]
          },
          "metadata": {},
          "execution_count": 42
        }
      ]
    },
    {
      "cell_type": "code",
      "metadata": {
        "colab": {
          "base_uri": "https://localhost:8080/",
          "height": 472
        },
        "id": "0N6NIkdegvda",
        "outputId": "92f6e2d7-3767-41ff-bd28-40c8e6e2ad22"
      },
      "source": [
        "#plotando os imoveis pela latitude-longitude\n",
        "df_clean.plot(kind='scatter', x='longitude', y='latitude', alpha = 0.4,\n",
        "                 c = df_clean['price'], s = 8, cmap = plt.get_cmap('jet'),\n",
        "                 figsize=(12,8));"
      ],
      "execution_count": 43,
      "outputs": [
        {
          "output_type": "display_data",
          "data": {
            "image/png": "[encoded data removed]",
            "text/plain": [
              "<Figure size 864x576 with 2 Axes>"
            ]
          },
          "metadata": {
            "needs_background": "light"
          }
        }
      ]
    },
    {
      "cell_type": "markdown",
      "metadata": {
        "id": "N6-bD_axkOPi"
      },
      "source": [
        "## Conclusões\n",
        "\n",
        "Foi feita apenas uma análise superficial na base de dados do Airbnb, porém já se percebeu que existem *outliers* em algumas das variáveis. \n",
        "\n",
        "Também se notou que em algumas localidades há poucos imóveis disponíveis, o que pode distorcer as informações estatísticas de alguns atributos."
      ]
    },
    {
      "cell_type": "code",
      "source": [
        ""
      ],
      "metadata": {
        "id": "aIMY6UmTjMft"
      },
      "execution_count": null,
      "outputs": []
    }
  ]
}